{
 "cells": [
  {
   "cell_type": "markdown",
   "metadata": {},
   "source": [
    "## run imports"
   ]
  },
  {
   "cell_type": "code",
   "execution_count": 1,
   "metadata": {},
   "outputs": [
    {
     "name": "stderr",
     "output_type": "stream",
     "text": [
      "/Users/jonathan/git_repos/si650-final-project/venv/lib/python3.9/site-packages/tqdm/auto.py:21: TqdmWarning: IProgress not found. Please update jupyter and ipywidgets. See https://ipywidgets.readthedocs.io/en/stable/user_install.html\n",
      "  from .autonotebook import tqdm as notebook_tqdm\n"
     ]
    }
   ],
   "source": [
    "import ingredient_preprocessor as ip\n",
    "import ingredient_indexing as ingredient_indexing\n",
    "from food_ranker import *\n",
    "import food_indexing as food_indexing\n",
    "import food_preprocessor as fp\n",
    "from importlib import reload"
   ]
  },
  {
   "cell_type": "markdown",
   "metadata": {},
   "source": [
    "## run constants"
   ]
  },
  {
   "cell_type": "code",
   "execution_count": 2,
   "metadata": {},
   "outputs": [],
   "source": [
    "STOPWORDS_PATH = 'stopwords.txt'\n",
    "DATASET_PATH = 'cleanedRecipes.jsonl'\n",
    "INGREDIENT_INDEX_PATH = 'ingredient_index'\n",
    "FOOD_INDEX_PATH = 'food_index'\n",
    "ID_TO_RECIPE_PATH = 'id_to_recipe.json'"
   ]
  },
  {
   "cell_type": "markdown",
   "metadata": {},
   "source": [
    "## ONLY RUN THIS IF IT DOESN'T EXIST FOR YOU YET IN YOUR PROJECT DIRECTORY: build a doc id to doc info JSON for quick loading in CLI"
   ]
  },
  {
   "cell_type": "code",
   "execution_count": 3,
   "metadata": {},
   "outputs": [],
   "source": [
    "id_to_recipe = {}  # make doc id to info dict for quick loading\n",
    "\n",
    "with open(DATASET_PATH, 'r') as recipes_read:\n",
    "    for recipe in recipes_read:\n",
    "        recipe = json.loads(recipe)\n",
    "        recipe_id = recipe['recipeID']\n",
    "        recipe_title = recipe['title']\n",
    "        recipe_link = recipe['link']\n",
    "        recipe_NERs = recipe['NER']\n",
    "        id_to_recipe[recipe_id] = (recipe_title, recipe_link, recipe_NERs)\n",
    "\n",
    "with open(ID_TO_RECIPE_PATH, 'w') as json_out:\n",
    "    json_data = json.dumps(id_to_recipe, indent=4)\n",
    "    \n",
    "    json_out.write(json_data)"
   ]
  },
  {
   "cell_type": "markdown",
   "metadata": {},
   "source": [
    "## OR LOAD IT INSTEAD"
   ]
  },
  {
   "cell_type": "code",
   "execution_count": 4,
   "metadata": {},
   "outputs": [],
   "source": [
    "with open(ID_TO_RECIPE_PATH, 'r') as json_file:\n",
    "    id_to_recipe = json.load(json_file)"
   ]
  },
  {
   "cell_type": "markdown",
   "metadata": {},
   "source": [
    "## build ingredient tokenizer, stopwords, food tokenizer"
   ]
  },
  {
   "cell_type": "code",
   "execution_count": 5,
   "metadata": {},
   "outputs": [
    {
     "data": {
      "text/plain": [
       "['this is a test sentence', 'with a comma', 'chicken breast']"
      ]
     },
     "execution_count": 5,
     "metadata": {},
     "output_type": "execute_result"
    }
   ],
   "source": [
    "ingredient_preprocessor = ip.SplitTokenizer()\n",
    "ingredient_preprocessor.tokenize(\"This is a test sentences, with a comma...., chicken breasts\")"
   ]
  },
  {
   "cell_type": "code",
   "execution_count": 6,
   "metadata": {},
   "outputs": [
    {
     "data": {
      "text/plain": [
       "'Stopwords collected 610'"
      ]
     },
     "execution_count": 6,
     "metadata": {},
     "output_type": "execute_result"
    }
   ],
   "source": [
    "stopwords = set()\n",
    "with open(STOPWORDS_PATH, 'r', encoding='utf-8') as file:\n",
    "    for stopword in file:\n",
    "        stopwords.add(stopword.strip())\n",
    "f'Stopwords collected {len(stopwords)}'"
   ]
  },
  {
   "cell_type": "code",
   "execution_count": 7,
   "metadata": {},
   "outputs": [],
   "source": [
    "# stopwords = {'and', 'the', 'or', 'is', 'for'}\n",
    "food_preprocessor = fp.RegexTokenizer('\\w+', lowercase=True, multiword_expressions=None)"
   ]
  },
  {
   "cell_type": "markdown",
   "metadata": {},
   "source": [
    "# TRY LOADING INVERTED INDEXES FIRST"
   ]
  },
  {
   "cell_type": "code",
   "execution_count": 8,
   "metadata": {},
   "outputs": [],
   "source": [
    "ingredient_index = ingredient_indexing.InvertedIndex()\n",
    "ingredient_index.load(INGREDIENT_INDEX_PATH)\n",
    "\n",
    "food_index = food_indexing.InvertedIndex()\n",
    "food_index.load(FOOD_INDEX_PATH)"
   ]
  },
  {
   "cell_type": "markdown",
   "metadata": {},
   "source": [
    "## OR CREATE THEM IF NOT SAVED"
   ]
  },
  {
   "cell_type": "code",
   "execution_count": null,
   "metadata": {},
   "outputs": [],
   "source": [
    "# preprocessor = RegexTokenizer('\\w+', lowercase=True, multiword_expressions=None)\n",
    "ingredient_index = ingredient_indexing.Indexer.create_index(ingredient_indexing.IndexType.InvertedIndex, dataset_path=DATASET_PATH, document_preprocessor=ingredient_tokenizer, stopwords=stopwords, minimum_word_frequency=0, text_key='NER', max_docs=1000000)\n",
    "print(ingredient_index.get_statistics())"
   ]
  },
  {
   "cell_type": "code",
   "execution_count": null,
   "metadata": {},
   "outputs": [],
   "source": [
    "food_index = food_indexing.Indexer.create_index(food_indexing.IndexType.InvertedIndex, dataset_path=DATASET_PATH, document_preprocessor=preprocessor, stopwords=stopwords, minimum_word_frequency=10, text_key='directions', max_docs=1000000)\n",
    "print(food_index.get_statistics())"
   ]
  },
  {
   "cell_type": "code",
   "execution_count": null,
   "metadata": {},
   "outputs": [],
   "source": [
    "ingredient_index.save(INGREDIENT_INDEX_PATH)\n",
    "food_index.save(FOOD_INDEX_PATH)"
   ]
  },
  {
   "cell_type": "markdown",
   "metadata": {},
   "source": [
    "## run some tests"
   ]
  },
  {
   "cell_type": "code",
   "execution_count": 9,
   "metadata": {},
   "outputs": [
    {
     "data": {
      "text/plain": [
       "{'term_freq': 77312, 'term_total_count': 168569}"
      ]
     },
     "execution_count": 9,
     "metadata": {},
     "output_type": "execute_result"
    }
   ],
   "source": [
    "food_index.get_term_metadata('chicken')"
   ]
  },
  {
   "cell_type": "code",
   "execution_count": 10,
   "metadata": {},
   "outputs": [
    {
     "data": {
      "text/plain": [
       "{'term_freq': 41926, 'term_total_count': 42853}"
      ]
     },
     "execution_count": 10,
     "metadata": {},
     "output_type": "execute_result"
    }
   ],
   "source": [
    "ingredient_index.get_term_metadata('chicken')"
   ]
  },
  {
   "cell_type": "code",
   "execution_count": 11,
   "metadata": {},
   "outputs": [
    {
     "data": {
      "text/plain": [
       "[[10800, 1],\n",
       " [14591, 1],\n",
       " [74649, 1],\n",
       " [251959, 1],\n",
       " [267836, 1],\n",
       " [330864, 1],\n",
       " [359552, 1],\n",
       " [436990, 1],\n",
       " [465951, 1],\n",
       " [530753, 1],\n",
       " [624002, 1],\n",
       " [657903, 1]]"
      ]
     },
     "execution_count": 11,
     "metadata": {},
     "output_type": "execute_result"
    }
   ],
   "source": [
    "ingredient_index.get_postings('king')"
   ]
  },
  {
   "cell_type": "code",
   "execution_count": 12,
   "metadata": {},
   "outputs": [
    {
     "data": {
      "text/plain": [
       "54400"
      ]
     },
     "execution_count": 12,
     "metadata": {},
     "output_type": "execute_result"
    }
   ],
   "source": [
    "len([word for word in ingredient_index.index.keys() if len(word.split(\" \")) > 1])"
   ]
  },
  {
   "cell_type": "markdown",
   "metadata": {},
   "source": [
    "## build the ranker (this can run again to get edited ranker)"
   ]
  },
  {
   "cell_type": "code",
   "execution_count": 71,
   "metadata": {},
   "outputs": [],
   "source": [
    "import food_ranker\n",
    "reload(food_ranker)\n",
    "from food_ranker import *"
   ]
  },
  {
   "cell_type": "code",
   "execution_count": 72,
   "metadata": {},
   "outputs": [],
   "source": [
    "ranker = Ranker(food_index, ingredient_index, food_preprocessor, ingredient_preprocessor, stopwords, BM25, id_to_recipe)"
   ]
  },
  {
   "cell_type": "markdown",
   "metadata": {},
   "source": [
    "## run some test queries"
   ]
  },
  {
   "cell_type": "code",
   "execution_count": 73,
   "metadata": {},
   "outputs": [],
   "source": [
    "topq = ranker.query(query_ingr='pie, flour, cream, apples, blueberries', query_freetext='sweet and spicy pie', query_NOT='eggs, pecans, nuts, almonds')[:150]"
   ]
  },
  {
   "cell_type": "code",
   "execution_count": 74,
   "metadata": {},
   "outputs": [
    {
     "data": {
      "text/plain": [
       "[(784496, 0.5),\n",
       " (227756, 0.4),\n",
       " (135972, 0.4),\n",
       " (196704, 0.4),\n",
       " (123287, 0.4),\n",
       " (568638, 0.3333333333333333),\n",
       " (73794, 0.3333333333333333),\n",
       " (949548, 0.3333333333333333),\n",
       " (283419, 0.3333333333333333),\n",
       " (556491, 0.3333333333333333),\n",
       " (584717, 0.3333333333333333),\n",
       " (221867, 0.3333333333333333),\n",
       " (373723, 0.3333333333333333),\n",
       " (725366, 0.3333333333333333),\n",
       " (117459, 0.3333333333333333),\n",
       " (309576, 0.3333333333333333),\n",
       " (113773, 0.3333333333333333),\n",
       " (843719, 0.2857142857142857),\n",
       " (217296, 0.2857142857142857),\n",
       " (318968, 0.2857142857142857),\n",
       " (432029, 0.2857142857142857),\n",
       " (539221, 0.2857142857142857),\n",
       " (341859, 0.2857142857142857),\n",
       " (24139, 0.2857142857142857),\n",
       " (383427, 0.2857142857142857),\n",
       " (293926, 0.25),\n",
       " (522343, 0.25),\n",
       " (270511, 0.25),\n",
       " (96312, 0.25),\n",
       " (625256, 0.25),\n",
       " (543038, 0.25),\n",
       " (5319, 0.25),\n",
       " (341743, 0.25),\n",
       " (889236, 0.25),\n",
       " (773604, 0.25),\n",
       " (858917, 0.2222222222222222),\n",
       " (886102, 0.2222222222222222),\n",
       " (124486, 0.2),\n",
       " (179368, 0.2),\n",
       " (495019, 0.2),\n",
       " (998806, 0.2),\n",
       " (576547, 0.2),\n",
       " (252922, 0.2),\n",
       " (175917, 0.2),\n",
       " (756340, 0.2),\n",
       " (850495, 0.2),\n",
       " (626936, 0.16666666666666666),\n",
       " (64940, 0.16666666666666666),\n",
       " (788294, 0.16666666666666666),\n",
       " (362779, 0.16666666666666666),\n",
       " (235995, 0.16666666666666666),\n",
       " (650355, 0.16666666666666666),\n",
       " (570966, 0.14285714285714285),\n",
       " (190623, 0.14285714285714285),\n",
       " (962436, 0.14285714285714285),\n",
       " (855471, 0.14285714285714285),\n",
       " (896325, 0.14285714285714285),\n",
       " (175449, 0.14285714285714285),\n",
       " (878305, 0.14285714285714285),\n",
       " (299416, 0.14285714285714285),\n",
       " (69879, 0.14285714285714285),\n",
       " (350282, 0.14285714285714285),\n",
       " (112131, 0.14285714285714285),\n",
       " (692188, 0.125),\n",
       " (123896, 0.125),\n",
       " (746748, 0.1111111111111111),\n",
       " (783490, 0.1111111111111111),\n",
       " (318130, 0.1),\n",
       " (425925, 0.0),\n",
       " (8257, 0.0),\n",
       " (408763, 0.0),\n",
       " (233308, 0.0),\n",
       " (492064, 0.0),\n",
       " (207790, 0.0),\n",
       " (358329, 0.0),\n",
       " (271426, 0.0),\n",
       " (14969, 0.0),\n",
       " (646505, 0.0),\n",
       " (737287, 0.0),\n",
       " (749594, 0.0),\n",
       " (368518, 0.0),\n",
       " (854396, 0.0),\n",
       " (296598, 0.0),\n",
       " (777844, 0.0),\n",
       " (433762, 0.0),\n",
       " (809747, 0.0),\n",
       " (364897, 0.0),\n",
       " (698053, 0.0),\n",
       " (213129, 0.0),\n",
       " (858201, 0.0),\n",
       " (126234, 0.0),\n",
       " (29090, 0.0),\n",
       " (186097, 0.0),\n",
       " (857333, 0.0),\n",
       " (201755, 0.0),\n",
       " (787319, 0.0),\n",
       " (274494, 0.0),\n",
       " (22163, 0.0),\n",
       " (488250, 0.0),\n",
       " (329237, 0.0),\n",
       " (363252, 21.214854614339767),\n",
       " (631311, 21.21189720060986),\n",
       " (434350, 21.18956060250947),\n",
       " (717233, 21.17416910163969),\n",
       " (757415, 21.159170948365063),\n",
       " (877967, 21.148095381445444),\n",
       " (447055, 21.147620157900132),\n",
       " (311628, 21.09541084493805),\n",
       " (154428, 21.09536197766721),\n",
       " (595386, 21.09536197766721),\n",
       " (113850, 21.08165927907469),\n",
       " (339205, 21.06848742259428),\n",
       " (403249, 21.039440034751664),\n",
       " (715042, 21.037262688038343),\n",
       " (33492, 21.035141353654385),\n",
       " (980213, 21.011418688083502),\n",
       " (901974, 20.989145324320774),\n",
       " (195651, 20.977916776939793),\n",
       " (703803, 20.96441924619333),\n",
       " (572099, 20.93542145296519),\n",
       " (93458, 20.866740815268333),\n",
       " (280288, 20.84640654355788),\n",
       " (592735, 20.82461831025342),\n",
       " (582296, 20.802498995753158),\n",
       " (114583, 20.794779652701862),\n",
       " (601251, 20.740206967474776),\n",
       " (240518, 20.736405156369536),\n",
       " (146143, 20.72086955817389),\n",
       " (13309, 20.715745308214746),\n",
       " (348171, 20.687922464647883),\n",
       " (690319, 20.687922464647883),\n",
       " (647783, 20.68705881554529),\n",
       " (178897, 20.669022242581306),\n",
       " (148093, 20.6509384026187),\n",
       " (869698, 20.647576771823758),\n",
       " (80016, 20.637734393829156),\n",
       " (488287, 20.637734393829156),\n",
       " (503452, 20.61493388190363),\n",
       " (122156, 20.593776010838354),\n",
       " (240616, 20.59363718882448),\n",
       " (683458, 20.59363718882448),\n",
       " (297652, 20.59303488466854),\n",
       " (156829, 20.582493867408107),\n",
       " (351136, 20.576283582827124),\n",
       " (99242, 20.56353148936491),\n",
       " (663372, 20.50518935324631),\n",
       " (935450, 20.496649172875514),\n",
       " (147215, 20.48016259157782),\n",
       " (1582, 20.465132033005393),\n",
       " (682415, 20.465132033005393)]"
      ]
     },
     "execution_count": 74,
     "metadata": {},
     "output_type": "execute_result"
    }
   ],
   "source": [
    "topq"
   ]
  },
  {
   "cell_type": "markdown",
   "metadata": {},
   "source": [
    "# LET'S RUN SOME METRIC TESTS WITH OUR ANNOTATED DATA"
   ]
  },
  {
   "cell_type": "code",
   "execution_count": null,
   "metadata": {},
   "outputs": [],
   "source": [
    "# code here"
   ]
  }
 ],
 "metadata": {
  "kernelspec": {
   "display_name": "si650-final-project",
   "language": "python",
   "name": "si650-final-project"
  },
  "language_info": {
   "codemirror_mode": {
    "name": "ipython",
    "version": 3
   },
   "file_extension": ".py",
   "mimetype": "text/x-python",
   "name": "python",
   "nbconvert_exporter": "python",
   "pygments_lexer": "ipython3",
   "version": "3.9.13"
  }
 },
 "nbformat": 4,
 "nbformat_minor": 2
}
